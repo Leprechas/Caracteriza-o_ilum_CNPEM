{
 "cells": [
  {
   "cell_type": "markdown",
   "id": "32531125-fdb4-414e-b65d-317b644557ca",
   "metadata": {},
   "source": [
    "# Microscópia de Força Atômica - AFM\n",
    "\n",
    "Feito por Monyque Karoline de Paula Silva - 220063\n",
    "\n",
    "Turma: 1/2022\n",
    "\n",
    "Revisado por:\n",
    "\n",
    "Turma: "
   ]
  },
  {
   "cell_type": "markdown",
   "id": "49c5411b-a6d4-4a8c-aa55-43b980e0b96b",
   "metadata": {},
   "source": [
    "<hr>"
   ]
  },
  {
   "cell_type": "markdown",
   "id": "4687892f-67ba-4b78-924b-4ca9f0fcff73",
   "metadata": {},
   "source": [
    "<p align=\"justify\">~ Recadinho para os novos Ilums!! </p>\n",
    "<p align=\"justify\"> Olá calouros 😁 </p>\n",
    "<p align=\"justify\"> Estão preparados para conhecer uma técnica de microscópia que nos possibilita a conhecer um mundo não visto a olho-nú capaz de alcançar até a escala atômica? </p>\n",
    "<p align=\"justify\"> Bom, independente de você estar ou não preparado, nos veteranos nos preocupamos com vocês e vamos auxilia-los neste preparo. Portanto, vós apresentamos, um guia rápido e prático a respeito de uma técnica de microscópia que nos apresenta este mundo atômico e que também é muito utilizada no mundo científico e que vocês, estudantes Ilum, terão a oportunidade de usufruir já no primeiro semestre para realizações de caracterização de amostras, sejam elas a respeito da topografia ou da rugosidade desta. </p>\n",
    "<p align=\"justify\"> A ténica que tanto comentamos é a <b> Microscópia de Força Atômica</b>, também conhecida como nosso queridissímo, AFM (Atomic Force Microscopy). </p>\n",
    "    Esperamos poder auxilia-los com este guia, seja para a realização das atividades práticas ou para a escrita dos relatórios das atividades desenvolvidas. Dada as declarações iniciais, bora falar um pouco sobre a Microscópia de Força Atômica? </p>\n"
   ]
  },
  {
   "cell_type": "markdown",
   "id": "b412cda0-d92c-43d0-a387-78787012c824",
   "metadata": {},
   "source": [
    "<hr>"
   ]
  },
  {
   "cell_type": "markdown",
   "id": "dffc1259-5ee8-4243-8d61-1a801e2ecee3",
   "metadata": {
    "tags": []
   },
   "source": [
    "## Microcopia de Força Atômica - O que é? \n",
    "<p align=\"justify\">  A microscopia de Força Atômica (Atomic Force Micoscopy, se optarem pelo inglês) é uma técnica de microscopia que possibilita a captação de imagens e informações a respeito da morfologia da amostra de interesse por meio de forças atrativas e repulsivas entre uma sonda (ponta ligada a um cantilever) e uma amostra depositada sobre uma superfície de silício, vidro ou mica. Estas forças ocasionam na deflexão da sonda que são captadas por um laser e convertidas em sinais elétricos a um fotodetector que as transforma em informações ou imagens que auxiliem no estudo da morfologia da superfície da amostra, podendo nos informar a respeito da topografia, rugosidade, dispersão e tamanho das partículas. \n",
    "    \n",
    "<p align=\"justify\"> Esta técnica apresenta duas principais medições caracteristícas, sendo estas: medição de força ou medição topográfica. Usualmente, nos laboratórios da Ilum - Escola de Ciência, se é mais utilizado a medição das propriedades topográficas que fornecem informações tridimensionais da amostra por meio da varredura da estrutura de superfície com uma ponta afiada - denominada de cantilever capaz de percorrer por toda a amostra. Esta técnica pode ser utilizada para a caracterização de diversos matériais, se destoando da técnica antecessora, Scanning Tunneling Microscope (STM) - dissertada em outra seção no repositório pelo discente Artur Hosoi Kimura; que promovia a obtenção da superfície da amostra em escalas atômicas por meio da condutividade da ponta e da amostra dado o experimento quântico de Tunelamento, no caso do AFM esta condutividade não é necessária, logo, o AFM surge como uma técnica de obtenção de imagens não-ópticas na escala de micrometro, nanometro e armnstrong em materiais que não precisam ser, necessariamente, condutores.</p>\n",
    "\n",
    "<p align=\"justify\"> Existem inúmeros modelos de AFM, no presente guia, disserta-se a respeito do modelo utilizado nos laboratórios da Ilum - Escola de Ciência, sendo este: o EDU-AFM. Um microscópio de força atômica na versão educacional, isto é, ele é maior e mais aberto que os equipamentos encontrados no mercado, justamente para compreendermos os componentes existentes e o principio físico deste. Na Figura 1, apresenta-se uma figura do equipamento e suas componentes. </p>\n",
    "    \n",
    "<p align=\"center\"><img src= \"https://user-images.githubusercontent.com/106678040/219457299-2a7340d9-53ae-4c8f-a55e-2d6e7246c185.png\" width='600' height='300'></p>\n",
    "<p align=\"center\"> Figura 1. Representação física do EDU-AFM (Thorlabs).</p>\n",
    "\n",
    "### EDU-AFM\n",
    "<p align=\"justify\"> O EDU-AFM é um modelo de AFM didático que permite compreender todos as componentes e processos necessários para a realização da varredura da amostra. Como citado anteriormente, existem três tipos de medições a serem realizadas que são determinadas pelo módulo selecionado no software - ressalta-se que para a obtenção da imagem deve-se utilizar de um computador com o software da EDU-AFM acoplado com o equipamento EDU-AFM. No que diz respeito a medição e os módulos, cada medição tem um propósito divergente, assim,  no caso em que se deseja saber a respeito das características da estrutura da sua amostra opta-se pelo Modo de Força Constante, por sua vez para a determinação do Módulo de Young (propriedade mecânica que mede a rigidez de um material sólido) do material deve-se optar pelo módulo de Força-Distância Curva.</p>\n"
   ]
  },
  {
   "cell_type": "markdown",
   "id": "45909d9e-87f4-451d-bfa1-35d38d894be3",
   "metadata": {},
   "source": [
    "## Como funciona a técnica?\n",
    "\n",
    "<p align=\"justify\"> De modo geral, o funcionamento ocorre por meio do laser emitido por sua fonte (Laser Source) que é focado na ponta do cantilever, próximo a agulha, por meio de uma lente de foco ajustável. O cantiléver e a agulha são os elementos sensores dos microscópios de varredura por força. A agulha, colocada no final do cantiléver, mapeia a amostra, enquanto o cantiléver, por sua vez, mede a força de interação entre a amostra e a agulha. Essas medições ocorrem porque o cantilever sofre com deflexões, isto é, ele pode dobrar(ou desviar) quando a ponta interage com a superfície da amostra - principalmente quando ocorre uma mudança na altura da superfície, essa deflexão do cantilever é observada pelo laser, lida e processada em um processador de sinal digital. <p align=\"justify\"> De modo visual, observa-se o esquemático na Figura 2, para a compreensão do processo de funcionamento. Falando em linguagem de físico agora - calma vocês irão ver esses fenômenos em aula, ressalta-se que as forças envolvidas na interação da ponta com a superfície da amostra são: </p>\n",
    "- Forças de Van der Waals\n",
    "- Forças Baseadas no Princípio de Pauli\n",
    "- Força Eletrostática\n",
    "- Forças Capilares (Umidade Relativa)\n",
    "\n",
    "<p align=\"justify\"> Ficou curioso sobre essas forças? Assustado porque nunca ouviu falar delas? Não se preocupa, ao longo do curso iremos conhecer mais sobre elas e qualquer dúvida sempre pode ser falada com os nosso queridos professores (Alô Felipe! Alô Valéria!) ou dar uma conversadinha com o nosso técnico, o Alessandro. </p>\n",
    "<p align=\"center\"><img src= \"https://user-images.githubusercontent.com/106678040/219419885-cb60f9f7-5bbd-475c-85cd-ed959878704a.png\" width='600' height='300'></p>\n",
    "<p align=\"center\"> Figura 2. Esquemático do funcionamento do EDU-AFM (Thorlabs).</p>\n"
   ]
  },
  {
   "cell_type": "markdown",
   "id": "b8b2d959-8886-442d-8d8d-ec8a9e836623",
   "metadata": {
    "jp-MarkdownHeadingCollapsed": true,
    "tags": []
   },
   "source": [
    "### Nomenclaturas básicas\n",
    "1. Cantilever\n",
    "<p align=\"justify\">  \n",
    " O Cantilever é um braço flexível que sustenta uma pequena ponta que varre a amostra. Esse braço sofre deflexões devido o pizoelétrico. Na Figura 3.a. há uma representação deste, enquanto na Figura 3.d. há o cantilever visto a olho-nú. </p>\n",
    "<p align=\"center\"><img src= \"https://user-images.githubusercontent.com/106678040/219463266-4c012c75-3635-4e5a-83e4-93aa869504e2.png\" width='600' height='300'></p>\n",
    "<p align=\"center\"> Figura 3. Esquemático da estrutura do cantilever.</p>\n",
    "\n",
    "2. Fotodetector\n",
    "<p align=\"justify\">  \n",
    " O fotodetector é o componente responsável pela conversão das deflexões para sinais elétricos que irão gerar a imagem. Em síntese, esse componente tem um amplificador que mede as variações de posição e da intensidade da luz produzidas pelas deflexões, desse modo, os movimentos nanométricos podem ser detectados, gerando sinais elétricos que são armazenadas e processados por um computador e convertidos em imagem topográficas ou tridimensionais da superfície do material em resolução atômica. Na Figura 4, há a representação do fotodetector do EDU-AFM, sendo a Figura 4.a., aquela que demonstra o dimensionamento real do fotodetector e a Figura 4.b. a imagem do componente em si.\n",
    "<p align=\"center\"><img src= \"https://user-images.githubusercontent.com/106678040/219649786-16089cf8-cff6-4859-9208-b6069a6b185b.png\" width='600' height='300'></p>\n",
    "<p align=\"center\"> Figura 4. Representação do fotodetector do EDU-AFM.</p>\n",
    "\n",
    "\n",
    "3. Piezoelétrico\n",
    "<p align=\"justify\">  \n",
    " Os piezoelétricos são os responsáveis por auxiliar na varredura, pois através do deslocamento, nas posições x, y e z com precisão de décimo de Angstron, há a quantificação das propriedades do material. Por exemplo, no módulo de Força Constante - o utilizado nas práticas, a força que o cantiléver exerce sobre a amostra, provocada pelo deslocamento do eixo z do piezo, permite a quantificação de propriedades do material sendo analisado. Na Figura 5, há a representação do piezoelétrico do EDU-AFM que consegue ser deslocado pelo ajuste fino e ajuste grossos - braços laterais do equipamento denominados de x, y, z.\n",
    "<p align=\"center\"><img src= \"https://user-images.githubusercontent.com/106678040/219653668-a028ba62-a48c-444e-ae72-e912e5935ad2.png\" width='600' height='300'></p>\n",
    "<p align=\"center\"> Figura 5. Representação do pizoelétrico do EDU-AFM.</p>\n",
    "\n"
   ]
  },
  {
   "cell_type": "markdown",
   "id": "3aee60ea-f498-46b3-bb0a-9cb4e02ccce5",
   "metadata": {},
   "source": [
    "## Como usar?\n",
    "<p align=\"justify\">\n",
    " Coloque a amostra embaixo do cantilever e da ponta (dúvidas voltar a seção anterior), cuidado para não tocar na ponta, pois ela pode quebrar! Confira se o ajuste grosso Z está o mais distante possível da amostra.\n",
    "<p align=\"justify\">\n",
    " Os próximos passos consistem em trabalhar no software, abra o software EDU-AFM e confirme se o mesmo está conectado ao AFM (no canto inferior direito deve estar detectado se os serviços estão conectados ou não). Além disso, deve-se observar se o laser está bem direcionado no software, isto pode ser observado ao ver se a bolinha branca está em alguma das quatro linhas principais - se não exister, esse é o momento ideal para olhar nos fundos dos olhos do Alê e pedir com jeitinho se ele pode ajudar vocês a calibrar, mas geralmente já vai estar calibrado, o Alê é bem minucioso sobre. Na Figura 6, há a representação de como o software deve estar para ser possível realizar a prática. </p>\n",
    "\n",
    "<p align=\"center\"><img src= \"https://user-images.githubusercontent.com/106678040/222935091-042a6ef5-4b96-44af-8178-fb6aa6f8e7d0.png\" width='600' height='300'> \n",
    "<p align=\"center\"> Figura 6. Representação da parametrização inicial no software EDU-AFM.</p>\n",
    "\n",
    "<p align=\"justify\">\n",
    " Em seguida, iremos no canto superior direito e trocar a opção \"Strain Gauge Feedback\" para Enable, por fim, clica-se na opção \"Zeroing Strain Gauge Feedback\" e seleciona-se Enable para a opção Z Feedback. Neste modelo, deve-se aparecer na tela que a \"Z Position[V]\" está em 50 V. Com o auxílio de uma câmera apontada para a nossa ponta, iremos descer o ajuste grosso Z (do nosso piezoelétrico) até parecer que ele está quase tocando na ponta(não se pode encostar), uma dica é ver o momento que o laser direcionado a ponta e o reflexo dele no substrato estão quase se tornando um só, observado isso, deve-se utilizar do ajuste fino até que a \"Z Position[V]\" esteja em torno de 25 V. Na Figura 7, há a demonstração de como o software e a câmera com a amostra e a ponta devem estar. </p>\n",
    " \n",
    "<p align=\"center\"><img src= \"https://user-images.githubusercontent.com/106678040/222935598-b8c478e0-6ae9-483e-8bbc-13b0823a71ef.png\" width='600' height='300'> \n",
    "<p align=\"center\"> Figura 7. Representação da parametrização final no software EDU-AFM.</p>\n",
    "\n",
    "<p align=\"justify\">\n",
    "Definido os parâmetros, enfim, seleciona-se o módulo de interesse para a prática. No primeiro semestre, usualmente, utiliza-se do módulo de Força Constante. Para realizar a mudança, selecione no canto superior esquerdo a opção \"Constant Force Mode\" que irá abrir a tela que demonstrará a imagem sendo obtida em tempo real. Na Figura 8, demonstra-se como deve estar a tela do módulo, ademais, no canto direito há a tela de ajustes da obtenção das imagem, nesta seção pode-se aumentar ou diminuir a velocidade da obtenção da imagem, como também aumentar ou diminuir a quantidade de pixels e dar zoom em regiões de interesse da imagem. Escolha as configurações que achar ideal para a sua imagem! </p>\n",
    "\n",
    "<p align=\"center\"><img src= \"https://user-images.githubusercontent.com/106678040/222935787-34ec1c86-0fa9-481b-95b7-3a075046c97e.png\" width='600' height='300'> \n",
    "<p align=\"center\"> Figura 8. Representação da parametrização inicial do módulo de força constante no software EDU-AFM.</p>\n",
    " \n",
    "E pronto! Você acaba de obter a sua imagem de interesse! Agora só não esqueça de tratar os dados :)"
   ]
  },
  {
   "cell_type": "markdown",
   "id": "39247052-b1bd-4e26-880d-7c1a8b69f660",
   "metadata": {},
   "source": [
    "## Como preparar a amostra?\n",
    "\n",
    "<p align=\"justify\"> As amostras devem ser depositadas em cima de uma superfície de sílicio, vidro ou mica que usualmente são denominadas de substrato. Para realizar essas caracterizações, uma parte essencial é o preparo do substrato, mas não se preocupem, o Alê estará responsável por essa parte em um momento inicial! </p>\n",
    "\n",
    "\n",
    "<li> Substrato de Mica </li>\n",
    "\n",
    "Em nossas práticas laboratóriais, o substrato de mica foi utilizado para análise das nanopartículas de sílica. De modo a realizar essa caracterização, foi necessário diluir a amostra e pipetar cerca de 20 um sob o substrato de mica e por fim, deixa-lá secar de forma a evitarr aglomerados na amostra. Na Figura 9, há a imagem de como é a aparência do substrato de mica.\n",
    "    \n",
    "<p align=\"center\"><img src= \"https://user-images.githubusercontent.com/106678040/221265996-0e35b1c6-fc0d-4bf7-97ae-01a8e6b93373.jpg\" width='600' height='300'></p>\n",
    "<p align=\"center\"> Figura 9. Representação de como aparenta ser um substrato de mica.</p>\n",
    "\n",
    "\n",
    "<li> Substrato de Sílicio </li>\n",
    "\n",
    "De modo geral, o substrato mais utilizado nos laboratórios da Ilum é o substrato de silício - muito usufruido para amostras secas. Ela apresenta planaridade maior do que as de vidro e são muito utilizados para as caracterizações de filmes finos - conceito que vocês irão aprender ao longo do semestre. Na Figura 10, há a imagem de como é a aparência do substrato de sílicio.\n",
    "<p align=\"center\"><img src= \"https://user-images.githubusercontent.com/106678040/221266974-4bc9f28a-e5b2-4541-b4fd-c2ac0a4fc2e9.jpg\" width='600' height='300'></p>\n",
    "<p align=\"center\"> Figura 10. Representação de como aparenta ser um substrato de sílicio.</p>\n"
   ]
  },
  {
   "cell_type": "markdown",
   "id": "a15df33c-8b13-4cdb-991e-a8b8c2206512",
   "metadata": {},
   "source": [
    "## Quais informações são obtidas?\n",
    "As informações obtidas em um primeiro momento são imagens, por meio destas, conseguimos identificar quais são as partes planas, altas ou baixas da nossa amostra. De modo a obter informações relevantes para as práticas, deve-se tratar estas no software Gwyddion."
   ]
  },
  {
   "cell_type": "markdown",
   "id": "16f5314d-41eb-49e3-9a2f-f30e6ee1569b",
   "metadata": {},
   "source": [
    "## Como e onde tratar esses dados?\n",
    "\n",
    "<p align=\"justify\"> O seu melhor amigo para o tratamento desses dados é o software Gwyddion! Não irei estragar a surpresa para vocês, os professores irão dar uma aula sobre como funciona tratamento de dados com imagens obtidas pelo AFM - Alô Amauri! Na Figura 11, há a carinha do nosso software! </p>\n",
    "\n",
    "<p align=\"center\"><img src= \"https://user-images.githubusercontent.com/106678040/219654423-6d4ec732-3f91-4e24-8a3b-293de72421b3.jpeg\" width='600' height='300'></p>\n",
    "<p align=\"center\"> Figura 11. Representação do Gwyddion.</p>\n"
   ]
  }
 ],
 "metadata": {
  "kernelspec": {
   "display_name": "Python 3 (ipykernel)",
   "language": "python",
   "name": "python3"
  },
  "language_info": {
   "codemirror_mode": {
    "name": "ipython",
    "version": 3
   },
   "file_extension": ".py",
   "mimetype": "text/x-python",
   "name": "python",
   "nbconvert_exporter": "python",
   "pygments_lexer": "ipython3",
   "version": "3.9.7"
  }
 },
 "nbformat": 4,
 "nbformat_minor": 5
}
