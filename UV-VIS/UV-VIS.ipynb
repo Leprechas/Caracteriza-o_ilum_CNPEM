{
 "cells": [
  {
   "cell_type": "markdown",
   "id": "32531125-fdb4-414e-b65d-317b644557ca",
   "metadata": {},
   "source": [
    "# Espectroscopia no UltraVioleta VISível\n",
    "\n",
    "Feito por Vitor E. G. Barelli - 220072\n",
    "\n",
    "Turma: 1 ou 2022\n",
    "\n",
    "Revisado por:\n",
    "\n",
    "Turma: "
   ]
  },
  {
   "cell_type": "markdown",
   "id": "360167b0-aabe-4546-bcfc-cf8f77f49479",
   "metadata": {},
   "source": [
    "## O que é? \n",
    "\n",
    "R: A espectroscopia no ultravioleta visível é uma técnica de análise de amostra que vai medir a interação da luz com a amostra, consiste em utilizar a luz UV-vis para entender características químicas da amostra, ela se baseia na absorção da radiação no UV-VIS pela amostra, a partir disso será feita uma quantificação através da quantidade de luz absorvida nos diferentes comprimentos de onda testados (considerando a lei de Lambert-Beer, sobre a luz absorvida e a concentração da amostra, tiramos muitas conclusões)..."
   ]
  },
  {
   "cell_type": "markdown",
   "id": "b583a19a-fe2a-42c3-ba26-4bba37d9b30f",
   "metadata": {},
   "source": [
    "<img src=\"UV2.jpeg\" width=\"350\">"
   ]
  },
  {
   "cell_type": "markdown",
   "id": "7bf063ec-1dcd-467e-b9b3-d1fb3df9007a",
   "metadata": {},
   "source": [
    "Exemplo de equipamento de UV-VIS. Fonte: https://csaeducacional.com.br/media/thumb/837x560/blog_posts/espectroscopia-de-absorcao-molecular-na-regiao-do-ultravioleta-e-visivel-uv-vis-7ca2c8e18a641dca937f691b4b3b12f7-1581538980.jpeg"
   ]
  },
  {
   "cell_type": "markdown",
   "id": "45909d9e-87f4-451d-bfa1-35d38d894be3",
   "metadata": {},
   "source": [
    "## Como funciona a técnica?\n",
    "\n",
    "R: Nós temos uma lampada que vai emitir um feixe de luz que vai passar por um processo de seleção do UV-VIS (Lente, monocromador e fenda de passagem) que por fim será incidida na amostra, que deve absorver parte do comprimento de onda (conforme suas características químicas) e os demais comprimentos serão absorvidos pelo detector, que por fim o software do UV-VIS vai produzir um gráfico indicando os picos de absorção."
   ]
  },
  {
   "cell_type": "markdown",
   "id": "157bb713-99fe-4e77-ab90-1be88825683b",
   "metadata": {},
   "source": [
    "<img src=\"UV1.png\" width=\"550\">"
   ]
  },
  {
   "cell_type": "markdown",
   "id": "320aaae6-fa0c-4bdb-a23b-4d88378a3945",
   "metadata": {},
   "source": [
    "Diagrama demonstrando o funcionamento interno do espectrofotômetro. Fonte: Rosa, C. et al. 2019"
   ]
  },
  {
   "cell_type": "markdown",
   "id": "3aee60ea-f498-46b3-bb0a-9cb4e02ccce5",
   "metadata": {},
   "source": [
    "## Como usar?\n",
    "\n",
    "R: Primeiro devemos conversar com o técnico responsável pelo equipamento e fazer consegue capacidade de ler amostras liquidas, sabendo disso você terá que fazer alguns ajustes na amostra, mas isso falaremos na próxima pergunta. \n",
    "\n",
    "Devemos ligar tanto o computador do equipamento quanto o equipamento, iniciar o software, LIMPAR A CUBETA ANTES DE COMEÇAR (e se necessário fazer uma calibração), feito isso devemos fazer o branco que na maior parte das vezes é apenas água mili-Q, mas em algumas situações pode ser a própria amostra em uma concentração conhecida, feita o branco, podemos passar para medida da amostra, a amostra deve ser colocada na cubeta (de quartzo) que vai dentro do equipamento para fazer a medida, durante a medida a amostra vai receber diferentes comprimentos de onda, para definirmos a características químicas da amostra a partir do gráfico de absorção gerado pelo equipamento, LIMPAR A CUBETA APÓS UTILIZAR [SEMPRE COM ÁGUA MILI-Q ou o líquido que o técnico indicar]."
   ]
  },
  {
   "cell_type": "markdown",
   "id": "39247052-b1bd-4e26-880d-7c1a8b69f660",
   "metadata": {},
   "source": [
    "## Como preparar a amostra?\n",
    "\n",
    "R: A preparação da amostra varia das suas características gerais e das indicações do professor ou técnico responsável pelo experimento, mas a depender da amostra saiba que talvez tenhamos que diluir a amostra, ajustar a turbidez ou até mesmo o pH, mas normalmente apenas diluímos a amostra em água mili-Q, pois isso garante maior eficiência na medida e menos uso de amostra de forma geral, por fim se lembre que todas as preparações feitas devem ser citadas no trabalho final, ficha de caracterização ou no artigo a ser entregue"
   ]
  },
  {
   "cell_type": "markdown",
   "id": "a15df33c-8b13-4cdb-991e-a8b8c2206512",
   "metadata": {},
   "source": [
    "## Quais informações são obtidas?\n",
    "\n",
    "R: A partir do gráfico gerado pelo equipamento, podemos identificar a amostra (cada amostra tem um espectro de absorção único), sua concentração (a quantidade de luz absorvida é diretamente proporcional a concentração da amostra), reatividade química (a absorção da luz pode indicar grupos funcionais específicos da amostra), pureza e contaminação da amostra e etc."
   ]
  },
  {
   "cell_type": "markdown",
   "id": "2fd2e57d-649e-495d-bcb5-4025e2083df0",
   "metadata": {},
   "source": [
    "<img src=\"UV3.png\" width=\"450\">"
   ]
  },
  {
   "cell_type": "markdown",
   "id": "dc736eae-049b-40af-810f-2a2a61eb6b69",
   "metadata": {},
   "source": [
    "Exemplo de gráfico obtido através do UV-VIS. Fonte: https://www.google.com/url?sa=i&url=https%3A%2F%2Fwww.researchgate.net%2Ffigure%2FFigura-3-Espectros-de-absorcao-UV-Vis-obtidos-de-1-0x10-4-mol-L-1-de-VG-em-sistema_fig2_312379509&psig=AOvVaw1-37X8TFW2jKzwBtgEUaTl&ust=1678730342664000&source=images&cd=vfe&ved=0CBAQjRxqFwoTCJiTyf771v0CFQAAAAAdAAAAABAO"
   ]
  },
  {
   "cell_type": "markdown",
   "id": "16f5314d-41eb-49e3-9a2f-f30e6ee1569b",
   "metadata": {},
   "source": [
    "## Como e onde tratar esses dados?\n",
    "\n",
    "R: De forma geral, no início do curso, ficaremos presos ao Excel e as suas funções de plotar gráficos, mas mais para frente vocês vão tratar esses dados em python. Bom, essa técnica já nos apresenta os gráficos que queremos, basta tu fazer as interpretações corretas deles!"
   ]
  },
  {
   "cell_type": "code",
   "execution_count": null,
   "id": "901a5c14-cecf-4a6a-8d0f-74c329dc0e5e",
   "metadata": {},
   "outputs": [],
   "source": []
  }
 ],
 "metadata": {
  "kernelspec": {
   "display_name": "Python 3 (ipykernel)",
   "language": "python",
   "name": "python3"
  },
  "language_info": {
   "codemirror_mode": {
    "name": "ipython",
    "version": 3
   },
   "file_extension": ".py",
   "mimetype": "text/x-python",
   "name": "python",
   "nbconvert_exporter": "python",
   "pygments_lexer": "ipython3",
   "version": "3.9.7"
  }
 },
 "nbformat": 4,
 "nbformat_minor": 5
}
