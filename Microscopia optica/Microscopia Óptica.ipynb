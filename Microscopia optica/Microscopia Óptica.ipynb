{
 "cells": [
  {
   "cell_type": "markdown",
   "id": "639d1610-dfe6-4385-b598-1edf2a3edd2b",
   "metadata": {},
   "source": [
    "# 1.\tMicroscopia óptica\n",
    "Feito por Vitor E. G. Barelli - 220072\n",
    "\n",
    "Turma: 1 ou 2022\n",
    "\n",
    "Revisado por:\n",
    "\n",
    "Turma: "
   ]
  },
  {
   "cell_type": "markdown",
   "id": "9810e6f5-445e-45bc-b6b8-0c0e840a1cdf",
   "metadata": {
    "tags": []
   },
   "source": [
    "## O que é?\n",
    "\n",
    "R: É o equipamento laboratorial mais simples entre os da lista, servem para observar células, micro-organismos e afins. Basicamente é feito de um conjunto de lentes de ampliação: \n",
    "- Condensador: conjunto de lentes convergentes que orientam e espalham a luz emitida pela fonte.\n",
    "- Diafragma: conjunto de paletas que regulam a quantidade de luz que chega a amostra\n",
    "- Objetivas secas: são lentes de ampliação de 4x, 10x, 40x ou 50x que não precisam de imersão.\n",
    "- Objetiva de imersão: são lentes de ampliação que entram na amostra e precisam de um óleo de imersão que evita o desvio do feixe luminoso e produz imagens absurdas, ampliando 100x.\n",
    "- Oculares: são um sistema de lentes que formam uma imagem virtual para os olhos do observador e fazem uma ampliação de 10x. (esse 10x é multiplicado com a objetiva escolhida, aí temos a ampliação total).\n",
    "\n",
    "Este microscópio usa comprimento de luz entre 400 e 700 nm, permitindo a observação de espécimes e amostras maiores que uma bactéria média, como núcleo de células, parede celular, bactérias, fibras, vasos condutores de plantas... "
   ]
  },
  {
   "cell_type": "markdown",
   "id": "dde07085-1512-4bb5-bfec-f56d5c693995",
   "metadata": {},
   "source": [
    "<img src=\"Microscopia_optica_1.png\" width=\"350\">"
   ]
  },
  {
   "cell_type": "markdown",
   "id": "e3a303d3-dd91-4054-bef7-bffce690f333",
   "metadata": {
    "tags": []
   },
   "source": [
    "## Como funciona a técnica?\n",
    "\n",
    "R: A luz da fonte incide sobre o condensador, que pode ou não ser regulada pelo diafragma, passa pela amostra sendo encaminhada para o canhão de lentes (oculares e objetivas), sendo a objetiva a primeira a formar uma imagem que vai ser refinada pela ocular, para formar a imagem que o observador vê."
   ]
  },
  {
   "cell_type": "markdown",
   "id": "7519fb3f-a0af-4d0d-9464-55f6c679cf52",
   "metadata": {},
   "source": [
    "## Como usar?\n",
    "\n",
    "R: Para lâminas prontas e fixadas: basta apenas descer o máximo possível da base, colocar sua lâmina e prende-lá a base, aí é só ajustar o foco mexendo no ajuste grosso e depois no fino para a primeira objetiva, quando trocamos de objetiva temos que ajustar o foco novamente!\n",
    "R2: Para lâmina feitas por nós: o processo é o mesmo, contudo TOME CUIDADO COM A OBJETIVA DE 40x ou 50x, pois se encostar na amostra vai danificar a lente, e NUNCA USE A LENTE DE IMERSÃO EM UMA AMOSTRA FEITA SEM PASSAR POR UM PROFESSOR!!!"
   ]
  },
  {
   "cell_type": "markdown",
   "id": "f8c33989-ac43-48fd-b380-2a44a64727d1",
   "metadata": {},
   "source": [
    "## Como fazer uma lâmina?\n",
    "\n",
    "R: Bom, NÃO DEVEMOS PRODUZIR LÂMINAS COM FLUIDOS HUMANOS, partindo disso, vamos pegar um caule simples como exemplo, corte ele em um ângulo de 45°, faça isso até conseguir obter uma amostra fina aonde tu consigas ver por ela, pois caules de plantas normalmente tem o centro incolor e transparente, agora coloque essa amostra em uma lâmina e leve ao microscópio, tu deve ver uns líquidos se movendo pelos vasos, células e suas paredes celulares... "
   ]
  },
  {
   "cell_type": "markdown",
   "id": "1feded7e-b2d3-46a4-bceb-1c4198c84c57",
   "metadata": {},
   "source": [
    "## Quais informações são obtidas?\n",
    "\n",
    "R: Bom, depende da sua amostra, amostras de meios com micro-organismos pretendemos afirmar a presença deles e sua morfologia 2D, em amostras de folhas pretendemos ver suas células e vasos...\n",
    "\n",
    "## Como e onde tratar esses dados?\n",
    "\n",
    "R: Temos um microscópio chamado PANTERA, ele tem uma tela e um software pronto para fazer algumas medições na sua amostra e tirar fotos, mas conforme necessário utilizaremos outros softwares como o ImageJ...\n",
    "\n",
    "Se necessário, peça ajuda aos professores Amauri e Juliana, aos técnicos de laboratório Rhuan e Alessandro ou até para o monitor das disciplinas de Biologia, como, por exemplo: Energia em sistemas vivos, Forma-Função e informação ou Práticas Básicas de Laboratório."
   ]
  },
  {
   "cell_type": "code",
   "execution_count": null,
   "id": "84b824b2-110b-4737-bdad-e36726c6b48a",
   "metadata": {},
   "outputs": [],
   "source": []
  }
 ],
 "metadata": {
  "kernelspec": {
   "display_name": "Python 3 (ipykernel)",
   "language": "python",
   "name": "python3"
  },
  "language_info": {
   "codemirror_mode": {
    "name": "ipython",
    "version": 3
   },
   "file_extension": ".py",
   "mimetype": "text/x-python",
   "name": "python",
   "nbconvert_exporter": "python",
   "pygments_lexer": "ipython3",
   "version": "3.9.7"
  }
 },
 "nbformat": 4,
 "nbformat_minor": 5
}
