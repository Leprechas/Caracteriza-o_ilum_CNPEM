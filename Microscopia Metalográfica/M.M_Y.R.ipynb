{
 "cells": [
  {
   "cell_type": "markdown",
   "id": "361a1881-6bdd-4ead-a100-781b28e10fc6",
   "metadata": {},
   "source": [
    "# Microscopia Metalográfica\n",
    "\n",
    "Feito por Ygor F. Ruas - 220066\n",
    "\n",
    "Turma 1 ou 2022\n",
    "\n",
    "Revisado por:\n",
    "\n",
    "Turma:"
   ]
  },
  {
   "cell_type": "markdown",
   "id": "f8f69e83-2183-48a0-bd61-1e37ede92a38",
   "metadata": {},
   "source": [
    "## O que é?\n",
    "\n",
    "Metalografia é o estudo da estrutura de metais e ligas. Onde a análise metalográfica pode ser usada como uma ferramenta para ajudar a identificar uma liga ou metal, para determinar se uma liga foi processada corretamente, para examinar várias fases dentro de um material, para localizar e caracterizar imperfeições, como vazios ou impurezas, ou para observar danos ou degradação áreas em investigações de análise de falhas.\n",
    "\n",
    "## técnicas usadas?\n",
    "\n",
    "A técnica mais utilizada nessas avaliações é a microscopia (técnica que já foi bem detalhada nesse repositório ( link caso ache necessário)). Tanto a microscopia óptica quanto a eletrônica de varredura (MEV) com análise de energia dispersiva de raios X (SEM/EDX) podem ser úteis na análise metalográfica. A espectroscopia de fotoelétrons de raios X também é útil na medição e identificação de carbonetos e inclusões grafíticas e formação intermetálica.\n",
    "\n",
    "## Como usar?\n",
    "\n",
    "Inicialmente as amostras preparadas para microscopia metalográfica geralmente são colocadas primeiro em um composto de epóxi para encapsulamento, embora essa etapa possa não ser necessária se a amostra a ser examinada for grande o suficiente e resistente o suficiente para sofrer retificação e polimento sem um material de suporte.\n",
    "Contudo, uma vez que a superfície da amostra é polida até o nível desejado, ela pode ser examinada imediatamente ou pode ser atacada. Onde a corrosão química ou eletroquímica é realizada nos casos em que a estrutura do grão é de interesse. Onde os contornos de grão são preferencialmente atacados durante a breve exposição ao ácido, deixando para trás uma superfície onde a estrutura de grão bidimensional pode ser vista claramente.\n",
    "Portanto, para manusear o equipamento após preparar as amostras é necessário ter conhecimento a respeito das funções de um microscópio metalúrgico de pesquisa, onde o presente na Ilum é um invertido que está equipado com campo claro, campo escuro, filtros de densidade neutra, polarizador com placa de ¼ e contraste de interferência diferencial Nomarski. Funções essa que possibilitam a análise de cada individualidade da amostra e podem ser alteradas manualmente pelo operador. Ademais, este microscópio também é excelente para examinar wafers e matrizes microeletrônicas, altamente presente nos campos de pesquisa do CNPEM, principalmente no LNNano. Imagens de cada parte do enquipamento [1]."
   ]
  },
  {
   "cell_type": "markdown",
   "id": "960f9f10-4f6c-41e6-afac-6c6ea201354c",
   "metadata": {},
   "source": [
    "## Quais informações são obtidas?\n",
    "\n",
    "A análise metalográfica pode determinar questões como:\n",
    "Tamanho de grão e crescimento\n",
    "Estrutura do grão resultante do processamento\n",
    "Microestruturas de fase intermetálica\n",
    "Formação de carboneto em superfícies e limites de grão\n",
    "Grãos equiaxiais ou colunares\n",
    "microssegregação química\n",
    "Microencolhimento e porosidade\n",
    "Inclusões\n",
    "Interfaces planares, celulares e dendríticas\n",
    "Microestruturas em função da taxa de resfriamento\n",
    "Tamanho de grão em função do encruamento\n",
    "Estruturas de grafite em ferros fundidos\n",
    "Grafite perto de superfícies em transição para carbonetos com profundidade\n",
    "Estruturas de silício em ligas Al-Si\n",
    "Segregação de cobre e magnésio à superfície em ligas de alumínio\n",
    "Estrutura intermetálica TiAl em liga Ti-6Al-4V\n",
    "A interferência de Nomarski pode codificar com cores diferenças de altura ou diferenças de fase química que afetam o índice de refração das diferentes fases\n",
    "\n",
    "Exemplo obtido de ferro fundido cinzento [2]"
   ]
  },
  {
   "cell_type": "markdown",
   "id": "e45fbcdb-648b-4c57-9046-6cce92542447",
   "metadata": {},
   "source": [
    "É possível visualizar por meio do microscópio metalográfico defeitos ou alterações em uma amostra.\n",
    "\n",
    "\n",
    "## Como e onde tratar esses dados?\n",
    "Os dados obtidos pelo microscópio podem ser adicionados ao repositório dos alunos via Pc da Ilum, onde podem ser acessadas quando conectados a rede wi-fi da Ilum ou CNPEM. Esses dados após transferidos ou copiados para o dispositivo do usuário podem ser analisados como imagem ou tratados pelo python.\n",
    "\n",
    "\n",
    "\n",
    "\n",
    "## Referência\n",
    "https://andersonmaterials.com/metal_microscopy/\n",
    "\n",
    "https://en.wikipedia.org/wiki/Metallography\n",
    "\n",
    "https://www.britannica.com/technology/metallographic-microscope\n",
    "\n",
    "\n",
    "## Referências das figurinhas \n",
    "\n",
    "\n",
    "[1] https://andersonmaterials.com/metal_microscopy/\n",
    "\n",
    "[2] https://www.solucoesindustriais.com.br/empresa/instrumentacao/insize-do-brasil/produtos/instrumentacao/microscopio-metalurgico\n"
   ]
  }
 ],
 "metadata": {
  "kernelspec": {
   "display_name": "ilumpy",
   "language": "python",
   "name": "ilumpy"
  },
  "language_info": {
   "codemirror_mode": {
    "name": "ipython",
    "version": 3
   },
   "file_extension": ".py",
   "mimetype": "text/x-python",
   "name": "python",
   "nbconvert_exporter": "python",
   "pygments_lexer": "ipython3",
   "version": "3.9.7"
  }
 },
 "nbformat": 4,
 "nbformat_minor": 5
}
