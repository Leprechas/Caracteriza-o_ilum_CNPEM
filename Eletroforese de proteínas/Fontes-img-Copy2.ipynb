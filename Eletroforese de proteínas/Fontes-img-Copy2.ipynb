{
 "cells": [
  {
   "cell_type": "markdown",
   "id": "a8ec6ae0-c21c-4f10-b56b-035463ab77ca",
   "metadata": {},
   "source": [
    "# Eletroforese de proteínas, fontes das imagens;"
   ]
  },
  {
   "cell_type": "markdown",
   "id": "276a0256-3b0e-4a36-9a01-632aa7786622",
   "metadata": {},
   "source": [
    "Nome do arquivo de imagem : fonte da imagem\n",
    "\n",
    "cuba.jpg : PRÁTICAS LABORATORIAS EM BIOLOGIA VEGETAL: AULA 45 – SEPARAÇÃO DE PROTEÍNAS ATRAVÉS DE ELETROFORESE EM GEL SDS-PAGE E COLORAÇÃO COM AZUL DE COOMASSIE\n",
    "\n",
    "poço.jpg : Biologia Noturno: Eletroforese de proteínas, e-disciplinas - USP (27/09/2017)\n",
    "\n"
   ]
  },
  {
   "cell_type": "code",
   "execution_count": null,
   "id": "73b35a43-3f9f-41b4-8ccb-183a116575a1",
   "metadata": {},
   "outputs": [],
   "source": []
  }
 ],
 "metadata": {
  "kernelspec": {
   "display_name": "ilumpy",
   "language": "python",
   "name": "ilumpy"
  },
  "language_info": {
   "codemirror_mode": {
    "name": "ipython",
    "version": 3
   },
   "file_extension": ".py",
   "mimetype": "text/x-python",
   "name": "python",
   "nbconvert_exporter": "python",
   "pygments_lexer": "ipython3",
   "version": "3.9.7"
  }
 },
 "nbformat": 4,
 "nbformat_minor": 5
}
