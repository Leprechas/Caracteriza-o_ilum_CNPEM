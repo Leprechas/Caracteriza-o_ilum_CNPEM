{
 "cells": [
  {
   "cell_type": "markdown",
   "id": "32531125-fdb4-414e-b65d-317b644557ca",
   "metadata": {},
   "source": [
    "# Eletroforese de proteínas ou SDS-PAGE\n",
    "\n",
    "Feito por Vitor E. G. Barelli - 220072\n",
    "\n",
    "Turma: 1 ou 2022\n",
    "\n",
    "Revisado por:\n",
    "\n",
    "Turma: "
   ]
  },
  {
   "cell_type": "markdown",
   "id": "360167b0-aabe-4546-bcfc-cf8f77f49479",
   "metadata": {},
   "source": [
    "## O que é? \n",
    "\n",
    "R: É uma eletroforese em gel de poliacrilamida (PAGE) com dodecil-sulfato de sódio (SDS) que tem condições desnaturantes para a separação de proteínas por seus pesos moleculares. Essa técnica tem diversas funcionalidades e é muito utilizada no processo de purificação de proteínas para conferir se tudo está ocorrendo como o esperado.\n",
    "\n",
    "OBS: a migração das proteínas é inversamente proporcional aos seus pesos moleculares.\n",
    "\n",
    "OBS2: se parece com a eletroforese de DNA e RNA, mas não é, tem algumas diferenças simples, mas a técnica de forma geral é a mesma, cuba, gel, tampão e corrente elétrica."
   ]
  },
  {
   "cell_type": "markdown",
   "id": "45909d9e-87f4-451d-bfa1-35d38d894be3",
   "metadata": {},
   "source": [
    "## Como funciona a técnica?\n",
    "\n",
    "R: A técnica consiste na produção de um gel de SDS-PAGE, de um tampão de corrida e uma cuba de eletroforese, unindo isso tudo teremos um gel com amostras correndo imerso no tampão dentro da cuba aonde teremos uma corrente elétrica que fará com que as proteínas \"corram\" no gel em um determinado tempo e por fim deveremos ver um gel com diversas marcações de proteínas com pesos moleculares diferentes. "
   ]
  },
  {
   "cell_type": "markdown",
   "id": "3aee60ea-f498-46b3-bb0a-9cb4e02ccce5",
   "metadata": {},
   "source": [
    "## Como usar?\n",
    "\n",
    "R: Eu particularmente não acho isso tudo um processo fácil, mas vou apenas falar da parte feita na Ilum, mas também existem todos os protocolos por trás dessa parte. Na ilum, colocamos nossas amostras no gel e ligamos, não fizemos muita coisa na realidade, pois essa técnica é algo extremamente frágil e não tínhamos muita prática, se você fizer um estágio utilizando proteínas você provavelmente vai aprender.\n",
    "\n",
    "Como falado anteriormente, é basicamente colocar na cuba, ligar e esperar.\n",
    "\n",
    "Mas lembre-se que o primeiro poço deve ser utilizado com o marcador e só depois que você inicia a pipetagem das suas amostras nos poços seguintes.\n",
    "\n",
    "Segue uma imagem do gel com os poços e da cuba."
   ]
  },
  {
   "cell_type": "markdown",
   "id": "cce06406-525f-40dd-8699-81128d626c3c",
   "metadata": {},
   "source": [
    "<img src=\"poço.jpg\" width=\"350\">"
   ]
  },
  {
   "cell_type": "markdown",
   "id": "51db97c4-8785-4dc3-a891-b0e2effa6263",
   "metadata": {},
   "source": [
    "<img src=\"cuba.jpg\" width=\"350\">"
   ]
  },
  {
   "cell_type": "markdown",
   "id": "39247052-b1bd-4e26-880d-7c1a8b69f660",
   "metadata": {},
   "source": [
    "## Como preparar a amostra?\n",
    "\n",
    "R: Os protocolos para a produção dos géis e do tampão podem ser achados na internet, agora as amostras que vão correr no gel vão ser retiradas da prática de piruficação de proteínas, por esse motivo eu não vou falar disso aqui, mas se lembre que para visualizar os resultados do gel você precisará fazer processo para coar com gel com corante Azul de Coomassie no mricro-ondas"
   ]
  },
  {
   "cell_type": "markdown",
   "id": "a15df33c-8b13-4cdb-991e-a8b8c2206512",
   "metadata": {},
   "source": [
    "## Quais informações são obtidas?\n",
    "\n",
    "R: Podemos confirmar a contaminação das amostras, confirmar se a purificação de proteínas funcionou e confirmar o peso molecular de uma proteína de interesse."
   ]
  },
  {
   "cell_type": "markdown",
   "id": "16f5314d-41eb-49e3-9a2f-f30e6ee1569b",
   "metadata": {},
   "source": [
    "## Como e onde tratar esses dados?\n",
    "\n",
    "R: Os dados retirados do gel não precisam ser tratados, afinal essa técnica é apenas uma técnica de confirmação de resultados, basicamente vamos confirmar se deu certo ou se vamos ter que repetir o processo alterando o protocolo das amostras."
   ]
  },
  {
   "cell_type": "code",
   "execution_count": null,
   "id": "1c710e94-3b15-45d4-9fc9-71768b4700b2",
   "metadata": {},
   "outputs": [],
   "source": []
  }
 ],
 "metadata": {
  "kernelspec": {
   "display_name": "Python 3 (ipykernel)",
   "language": "python",
   "name": "python3"
  },
  "language_info": {
   "codemirror_mode": {
    "name": "ipython",
    "version": 3
   },
   "file_extension": ".py",
   "mimetype": "text/x-python",
   "name": "python",
   "nbconvert_exporter": "python",
   "pygments_lexer": "ipython3",
   "version": "3.9.7"
  }
 },
 "nbformat": 4,
 "nbformat_minor": 5
}
