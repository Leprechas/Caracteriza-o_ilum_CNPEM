{
 "cells": [
  {
   "cell_type": "markdown",
   "id": "a8ec6ae0-c21c-4f10-b56b-035463ab77ca",
   "metadata": {},
   "source": [
    "# Microscopia confocal, fontes das imagens;"
   ]
  },
  {
   "cell_type": "markdown",
   "id": "276a0256-3b0e-4a36-9a01-632aa7786622",
   "metadata": {},
   "source": [
    "Nome do arquivo de imagem : fonte da imagem\n",
    "\n",
    "confoc.png : Microscopio confocal en el diagnóstico dermatológico de las enfermedades ampollosas autoinmunitarias: Dolores Javier Sánchez-González, Navarro-Balderas, Rosa Elba e Ismael Vásquez-Moctezuma\n",
    "\n",
    "confocal2.jpeg : microscopio confocal do LNBio\n",
    "\n",
    "confocal3.jpeg : microscopio confocal do LNBio"
   ]
  },
  {
   "cell_type": "code",
   "execution_count": null,
   "id": "e762c208-0dc4-4867-99f3-96504041e641",
   "metadata": {},
   "outputs": [],
   "source": []
  }
 ],
 "metadata": {
  "kernelspec": {
   "display_name": "ilumpy",
   "language": "python",
   "name": "ilumpy"
  },
  "language_info": {
   "codemirror_mode": {
    "name": "ipython",
    "version": 3
   },
   "file_extension": ".py",
   "mimetype": "text/x-python",
   "name": "python",
   "nbconvert_exporter": "python",
   "pygments_lexer": "ipython3",
   "version": "3.9.7"
  }
 },
 "nbformat": 4,
 "nbformat_minor": 5
}
