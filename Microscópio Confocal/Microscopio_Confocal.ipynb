{
 "cells": [
  {
   "cell_type": "markdown",
   "id": "32531125-fdb4-414e-b65d-317b644557ca",
   "metadata": {},
   "source": [
    "# Microscopia Confocal\n",
    "\n",
    "Feito por Paola Ferrari - 220024\n",
    "\n",
    "Turma: 1 ou 2022\n",
    "\n",
    "Revisado por:\n",
    "\n",
    "Turma: "
   ]
  },
  {
   "cell_type": "markdown",
   "id": "360167b0-aabe-4546-bcfc-cf8f77f49479",
   "metadata": {},
   "source": [
    "## O que é? \n",
    "\n",
    "R: É um microscópio ótico que utiliza da fluorescência das amostras para criar imagens tridimencionais atravéz de um pinhole (primeira imagem). A segunda imagem é o softwer utilizado calibrar e escolher as frequências dos laser.\n",
    "\n",
    "<img src=\"confocal2.jpeg\" style=\"width:450px;height:450px\"/>\n",
    "\n",
    "<img src=\"confocal3.jpeg\" style=\"width:450px;height:450px\"/>\n",
    "\n",
    "\n"
   ]
  },
  {
   "cell_type": "markdown",
   "id": "45909d9e-87f4-451d-bfa1-35d38d894be3",
   "metadata": {},
   "source": [
    "## Como funciona a técnica?\n",
    "\n",
    "R: A sua fonte de luz é padronizadamente um laser de íons de argônio que pode produzir feixes com diferentes comprimentos de onda dependendo do marcador utilizado na amostra. Esse laser é guiado por uma série de espelhos/lentes que varrem parte por parte da amostra, que irá emanar florescência de volta para detector. As imagens são captadas por uma câmera pinhole (permitindo que a luz de um plano focal, foque em outro plano). No final, as várias imagens são colocadas juntas por um software.\n",
    "\n",
    "<img src=\"confocal.png\" style=\"width:450px;height:350px\"/>\n"
   ]
  },
  {
   "cell_type": "markdown",
   "id": "3aee60ea-f498-46b3-bb0a-9cb4e02ccce5",
   "metadata": {},
   "source": [
    "## Como usar?\n",
    "\n",
    "R: O microscópio fica no LNBio no CNPEM e a equipe responsável é o Grupo de Imagens Biológicas do Murilo Carvalho e colocam-se as amostras no porta amostra e acertamos o foco, mudando o laser para cada um dos marcadores diferentes que estão da amostra.  "
   ]
  },
  {
   "cell_type": "markdown",
   "id": "39247052-b1bd-4e26-880d-7c1a8b69f660",
   "metadata": {},
   "source": [
    "## Como preparar a amostra?\n",
    "\n",
    "R: As amostras são geralmente biológicas ou químicas, sendo que o preparo muda de acordo com os marcadores. No caso da prática feita, utilizou-se células já fixas nas lâminas que ficam em poço, nele colocamos o DAPI (marcador de DNA que se fixa em regiões ricas em parese de base A-T) diluído e esperamos entrar/ser absorvido pelas células, depois é lavado com PBS (solução tampão fosfato-salino para amostras biológicas) e aspirado. O mesmo processo ocorre para os outros marcadores/nanopartículas que queremos colocar dentro das células, sendo que o tempo de incubação, ou seja, quanto tempo a solução irá ficar em contato com as células e depois lavar, muda de caso para caso, assim como quantas incubações serão necessárias. \n",
    "\n",
    "Como as células estão em meio líquido, para colocá-las no porta amostras precisamos tirá-las do poço e prendê-las em lâminas de vidro, fazemos isso com esmalte que seca rápido. \n",
    "\n"
   ]
  },
  {
   "cell_type": "markdown",
   "id": "a15df33c-8b13-4cdb-991e-a8b8c2206512",
   "metadata": {},
   "source": [
    "## Quais informações são obtidas?\n",
    "\n",
    "R: Recebemos, para uma mesma imagem, canais diferentes específicos de cada um dos comprimentos de onda que foram utilizados, além de uma imagem da miscroscopia ótica normal. Também temos acesso à fluorescência que a amostra emitiu que poderá nos dar informações de profundidade da amostra e assim saber onde está cada um dos nossos marcadores com mais exatidão."
   ]
  },
  {
   "cell_type": "markdown",
   "id": "16f5314d-41eb-49e3-9a2f-f30e6ee1569b",
   "metadata": {},
   "source": [
    "## Como e onde tratar esses dados?\n",
    "\n",
    "R: Os dados são tratados do software ImageJ, que possui ferramentas para seraparar os canais e explorar as dimensões que há no arquivo, além de fazer plots 3D."
   ]
  },
  {
   "cell_type": "code",
   "execution_count": null,
   "id": "f0afb69c-788d-4c20-b7c4-2804ca849a57",
   "metadata": {},
   "outputs": [],
   "source": []
  }
 ],
 "metadata": {
  "kernelspec": {
   "display_name": "Python 3 (ipykernel)",
   "language": "python",
   "name": "python3"
  },
  "language_info": {
   "codemirror_mode": {
    "name": "ipython",
    "version": 3
   },
   "file_extension": ".py",
   "mimetype": "text/x-python",
   "name": "python",
   "nbconvert_exporter": "python",
   "pygments_lexer": "ipython3",
   "version": "3.9.7"
  }
 },
 "nbformat": 4,
 "nbformat_minor": 5
}
