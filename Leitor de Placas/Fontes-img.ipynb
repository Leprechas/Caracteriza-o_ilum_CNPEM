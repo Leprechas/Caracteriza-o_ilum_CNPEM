{
 "cells": [
  {
   "cell_type": "markdown",
   "id": "a8ec6ae0-c21c-4f10-b56b-035463ab77ca",
   "metadata": {},
   "source": [
    "# Leitor de placas, fontes das imagens;"
   ]
  },
  {
   "cell_type": "markdown",
   "id": "276a0256-3b0e-4a36-9a01-632aa7786622",
   "metadata": {},
   "source": [
    "Nome do arquivo de imagem : fonte da imagem\n",
    "\n",
    "espectofotometro.png : sinergia científica: Espectrofotômetro: Para que serve? Como funciona? Quais são seus componentes?\n",
    "\n",
    "Leitor.png : prolab: materias para laboratórios: leitora de microplacas elisa.\n",
    "\n",
    "Placa.png : sinapse biotecnologia: 96 well semi skirted PCR plate, natural, 50 plates"
   ]
  },
  {
   "cell_type": "code",
   "execution_count": null,
   "id": "733e3b8a-f00b-4c89-a7a6-331283642d9b",
   "metadata": {},
   "outputs": [],
   "source": []
  }
 ],
 "metadata": {
  "kernelspec": {
   "display_name": "ilumpy",
   "language": "python",
   "name": "ilumpy"
  },
  "language_info": {
   "codemirror_mode": {
    "name": "ipython",
    "version": 3
   },
   "file_extension": ".py",
   "mimetype": "text/x-python",
   "name": "python",
   "nbconvert_exporter": "python",
   "pygments_lexer": "ipython3",
   "version": "3.9.7"
  }
 },
 "nbformat": 4,
 "nbformat_minor": 5
}
