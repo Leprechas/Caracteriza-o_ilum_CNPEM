{
 "cells": [
  {
   "cell_type": "markdown",
   "id": "32531125-fdb4-414e-b65d-317b644557ca",
   "metadata": {},
   "source": [
    "# Leitor de Placas\n",
    "\n",
    "Feito por Vitor E. G. Barelli - 220072\n",
    "\n",
    "Turma: 1 ou 2022\n",
    "\n",
    "Revisado por:\n",
    "\n",
    "Turma: "
   ]
  },
  {
   "cell_type": "markdown",
   "id": "360167b0-aabe-4546-bcfc-cf8f77f49479",
   "metadata": {},
   "source": [
    "## O que é? \n",
    "\n",
    "R: O leitor de placas ou leitor de microplacas é um equipamento laboratorial muito versátil que mede a espectrofotometria de uma substância emitindo luz em um comprimento de onda em específico, medindo a quantidade fletida e absorvida, e os comprimentos do equipamento da ilum são: X e Y, utilizando uma placa de 96 poços.\n",
    "\n",
    "Cada substância vai gerar resultados diferentes em comprimentos de onda diferentes, então se lembre de pesquisar o melhor comprimento de onda para a sua amostra e padronizar.\n",
    "\n",
    "Alguns desses equipamentos também podem medir a luz UV e a UV-Visível e também conseguem filtrar a luz, contudo, isso depende de kit externos, com especificações propriedades de configuração do equipamento.\n",
    "\n",
    "OBS: okay, esse equipamento mede a espectrofotometria, mas não existe um equipamento próprio para isso? SIM, mas o leitor de placas consegue fazer mais leituras em um menor tempo, garantindo a eficiência para diversas análises de absorbância com inúmeras amostras e até com um pequeno volume."
   ]
  },
  {
   "cell_type": "markdown",
   "id": "31ea38a1-31f7-4abc-a759-60add3e759ef",
   "metadata": {},
   "source": [
    "<img src=\"Leitor.png\" width=\"300\">"
   ]
  },
  {
   "cell_type": "markdown",
   "id": "a096d3e3-df8e-4ec9-8a1f-2d678717ff4f",
   "metadata": {},
   "source": [
    "<img src=\"placa.png\" width=\"250\">"
   ]
  },
  {
   "cell_type": "markdown",
   "id": "45909d9e-87f4-451d-bfa1-35d38d894be3",
   "metadata": {},
   "source": [
    "## Como funciona a técnica?\n",
    "\n",
    "R: Funciona como um espectrofotômetro só que mais eficiente, na imagem a baixo temos um esquema de um especto fotometro, a única diferença entre ele e o leitor de placas é que em vez de uma cubeta teremos uma placa de movimentando enquanto o laser é incidido, teremos em baixo da placa em um ponto fixo um detector que vai medir a radiação absorvida ou transmitida pela solução.\n",
    "\n",
    "OBS: a fenda de saída que vai determinar o comprimento de onda, por isso que definimos ele antes de colocar o equipamento para rodar."
   ]
  },
  {
   "cell_type": "markdown",
   "id": "2e174bd9-307e-42ff-9e4b-877552a7eea6",
   "metadata": {},
   "source": [
    "<img src=\"espectofotometro.png\" width=\"300\">"
   ]
  },
  {
   "cell_type": "markdown",
   "id": "3aee60ea-f498-46b3-bb0a-9cb4e02ccce5",
   "metadata": {},
   "source": [
    "## Como usar?\n",
    "\n",
    "R: O equipamento de forma geral é simples, você deve preparar a sua placa (mas fique atento ao máximo e o mínimo de cada poço da placa de 96 poços [200 microL a 50microL{vale lembrar que a quantidade mínima pode variar conforme o experimento}] colocar no equipamento conforme o indicado e ligar ele, lembre-se de ligar o equipamento antes do computador, no software é bem simples, basta definir o comprimento de onda e colocar o equipamento para ler a placa e em questão de segundos você vai receber os dados de cada poço em nm (comprimento de onda) e você deve exportar os dados para a pasta \"laboratórios ilum\", logo, você deve tratar os dados no seu próprio computador."
   ]
  },
  {
   "cell_type": "markdown",
   "id": "39247052-b1bd-4e26-880d-7c1a8b69f660",
   "metadata": {},
   "source": [
    "## Como preparar a amostra?\n",
    "\n",
    "R: Primeiro vamos precisar de uma placa de 96 poços e sempre devemos colocar pelo menos 1 poço com 200 microL de água Mili-Q, cada objetivo vai ter um preparo diferente, vou dar um exemplo Químico e um Biológico;\n",
    "\n",
    "Químico: Temos uma substância desconhecida e queremos descobrir a concentração de um elemento ou reagente nessa substancia, vamos produzir alíquotas de 0 a 100% de concentração, até conseguirmos produzir 10 poços que aumentam a concentração de 10 em 10% para traçar a linha de ajuste e coloque a sua substância desconhecida em outro poço, por fim trate os dados no Excel. \n",
    "\n",
    "Biológico: queremos acompanhar o crescimento de uma população de bactérias em meio líquido, então vamos pegar uma alíquota de 5 microL a cada hora e colocar nós poços e lembre de completar com água Mili-Q até no mínimo 50microL e também lembre-se de fazer os cálculos corretos para tentar descobrir o D.O. (Densidade óptica) do meio líquido total de crescimento, afinal estamos diluindo a alíquota.\n",
    "\n",
    "Após saber isso vamos fazer o mesmo processo do químico, um poço com água e os outros vão ser feitos com as alíquotas de hora em hora e o equipamento vai dar os dados para serem tratados no Excel."
   ]
  },
  {
   "cell_type": "markdown",
   "id": "a15df33c-8b13-4cdb-991e-a8b8c2206512",
   "metadata": {},
   "source": [
    "## Quais informações são obtidas?\n",
    "\n",
    "R: Considerando que os principais usos desse equipamento são ensaios colorimétricos, imunoensaios, ensaios de cinética de reações, ensaios enzimáticos e quantificação de proteínas, bactérias, DNA e RNA, geralmente medimos a densidade óptica, absorbância ou a luz refletida, entre outras, pois a informação obtida vai depender do experimento."
   ]
  },
  {
   "cell_type": "markdown",
   "id": "16f5314d-41eb-49e3-9a2f-f30e6ee1569b",
   "metadata": {},
   "source": [
    "## Como e onde tratar esses dados?\n",
    "\n",
    "R: No início do curso recomendo tratarem os dados no Excel, contudo, em breve vocês vão aprender a utilizar py (pandas) para tratar esses dados.\n",
    "\n",
    "A maioria das atividades que utilizam o leitor de placas vão precisar apenas de gráficos simples de 2 eixos, então basta colocar os dados no Excel e escolher seu gráfico, caso tenha dificuldade, peça ajuda ao professor responsável pela prática ou para os professoras James, Daniel e Amauri ou a qualquer veterano.\n",
    "\n",
    "Se precisar de ajuda para manusear o equipamento, peça ajuda as professoras Juliana e Valeria, aos técnicos de laboratório Rhuan e Alessandro ou até para o monitor das disciplinas de Biologia e Química, como, por exemplo: Energia em sistemas vivos, Forma-Função e informação ou Fundamentos da matéria."
   ]
  }
 ],
 "metadata": {
  "kernelspec": {
   "display_name": "Python 3 (ipykernel)",
   "language": "python",
   "name": "python3"
  },
  "language_info": {
   "codemirror_mode": {
    "name": "ipython",
    "version": 3
   },
   "file_extension": ".py",
   "mimetype": "text/x-python",
   "name": "python",
   "nbconvert_exporter": "python",
   "pygments_lexer": "ipython3",
   "version": "3.9.7"
  }
 },
 "nbformat": 4,
 "nbformat_minor": 5
}
