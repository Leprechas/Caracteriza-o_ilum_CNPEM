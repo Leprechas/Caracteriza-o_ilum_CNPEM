{
 "cells": [
  {
   "cell_type": "markdown",
   "id": "b3b3c1d5-d80c-4c63-9474-dfb67a065fa8",
   "metadata": {
    "tags": []
   },
   "source": [
    "# Espectroscopia de fluorescência\n",
    "\n",
    "Feito por Barbara da Paixão Perez - 220040\n",
    "\n",
    "Turma: 1 ou 2022\n",
    "\n",
    "Revisado por:\n",
    "\n",
    "Turma: "
   ]
  },
  {
   "cell_type": "markdown",
   "id": "f7c839c3-6629-4f0b-9734-75028a0167b7",
   "metadata": {},
   "source": [
    "Olá pessoal 😊\n",
    "\n",
    "Aqui vocês vão conseguir aprender um pouquinho sobre a espectroscopia de fluorescência, como a técnica funciona e como utilizar o equipameto!\n",
    "\n",
    "Se após a leitura ainda houverem dúvidas, fiquem a vontade para nos procurar. Ficaremos felizes em ajudá-los!\n",
    "\n",
    "Vamos lá! 👩🏽‍🔬"
   ]
  },
  {
   "cell_type": "markdown",
   "id": "7857273c-dd99-43ed-b59b-a8c1e974085d",
   "metadata": {},
   "source": [
    "## Afinal, o que é a espectroscopia de fluorescência? \n",
    "\n",
    "A espectroscopia de fluorescência é uma técnica que visa obter espectros, gráficos, com informações a respeito da fluorescência de uma amostra que deseja-se analisar. Isso é feito pela emissão de uma luz com um comprimento de onda específico e que tenha relação com o espectro de excitação do fluoróforo presente, ou possivelmente presente, na amostra. \n",
    "\n",
    "<img src=\"espect_flu.jpeg\" style=\"width:450px;height:450px\"/>"
   ]
  },
  {
   "cell_type": "markdown",
   "id": "59976c69-e5bd-4d9f-bb6b-420d66aad74c",
   "metadata": {},
   "source": [
    "## Como funciona a técnica?\n",
    "\n",
    "O funcionamento dessa técnica consiste na emissão de uma onda eletromagnética na amostra que deseja-se analisar, a fim de excitar seus elétrons, e captação da luz emitida por ela (a então desejada fluorescência dos fluoróforos). A onda, ao atingir os elétrons da amostra, leva-os para um estado excitado, ou seja, os leva para orbitais de maiores energia. Após isso, para retornar ao seu estado fundamental, esses objetos quânticos, então, emitem energia na forma de luz, a qual é captada pelo equipamento a partir de um ângulo de 90° com a onda incidida no material - essa disposição é feita para evitar que o equipamento também registre informações sobre o espectro de transmissão da amostra. \n",
    "\n",
    "<img src=\"funci_tec_espec_flu.png\" style=\"width:450px;height:450px\"/>\n",
    "\n",
    "Além disso, é válido destacar que a frequência de onda emitida pelos átomos do material será menor do que a frequência de onda incidida, respeitando o fator de dispersão de energia durante seu trajeto. Além de que, no processo de se efetuar a medição, pode se especificar o comprimento da onda que se emitirá para incidir a amostra e o intervalo de comprimento de onda que será detectado, sendo que esses aspectos podem ser determinados com base na literatura ou em testes prévios."
   ]
  },
  {
   "cell_type": "markdown",
   "id": "db0bfa91-a206-47a6-8f68-a3bbf893e796",
   "metadata": {},
   "source": [
    "## Como usar?\n",
    "\n",
    "Esse equipamento fica no laboratório de espectroscopia da ilum, para utilizá-lo é necessário fazer o agendamento com o técnico do laboratório seco, Alessandro."
   ]
  },
  {
   "cell_type": "markdown",
   "id": "5574ec78-bad9-41a3-aebe-b5b3110f1715",
   "metadata": {},
   "source": [
    "## Como preparar a amostra?\n",
    "\n",
    "Para análise a amostra precisa estar em meio líquido, o qual deve ser inserido em uma cubeta polida de todos os lados O meio em que a sua amostra deve estar inserida via depender da mesma. No entanto alguns cuidados devem ser tomados, deve-se deixar o ambiente mais escuro possível e manter a amostra envolvida por papel alumínio, só retirando rapidamente para colocar dentro do equipamento. \n",
    "\n",
    "<img src=\"cubeta_flu.webp\" style=\"width:450px;height:450px\"/>\n",
    "\n",
    "❗ Observação: Não esqueça de fazer o \"branco\" do equipamento antes de colocar a sua amostra em si, o branco deve ser feito como o meio que for utilizado"
   ]
  },
  {
   "cell_type": "markdown",
   "id": "af848905-f9f2-4ce8-aaef-c25c38fefce3",
   "metadata": {},
   "source": [
    "## Quais informações são obtidas e como tratá-las?\n",
    "\n",
    "💻 São obtidos dados de eixo x e y a respeito da intensidade da fluorescência a depender do comprimento da onda incidida na amostra. Com isso, você pode transferir os arquivos para o seu notebook e montar os gráficos utilizando bibliotecas do pyton no jupyterlab.\n"
   ]
  },
  {
   "cell_type": "code",
   "execution_count": null,
   "id": "9d64627e-f3a3-4188-92a3-047508c909d4",
   "metadata": {},
   "outputs": [],
   "source": []
  }
 ],
 "metadata": {
  "kernelspec": {
   "display_name": "ilumpy",
   "language": "python",
   "name": "ilumpy"
  },
  "language_info": {
   "codemirror_mode": {
    "name": "ipython",
    "version": 3
   },
   "file_extension": ".py",
   "mimetype": "text/x-python",
   "name": "python",
   "nbconvert_exporter": "python",
   "pygments_lexer": "ipython3",
   "version": "3.9.7"
  }
 },
 "nbformat": 4,
 "nbformat_minor": 5
}
