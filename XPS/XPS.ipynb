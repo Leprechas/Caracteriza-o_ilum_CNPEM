{
 "cells": [
  {
   "cell_type": "markdown",
   "id": "0e5e5536-12ac-4366-a1aa-a7f0e6c42c12",
   "metadata": {},
   "source": [
    "# XPS\n",
    "\n",
    "Feito por Vitor E. G. Barelli - 220072\n",
    "\n",
    "Turma: 1 ou 2022\n",
    "\n",
    "Revisado por:\n",
    "\n",
    "Turma: "
   ]
  },
  {
   "cell_type": "markdown",
   "id": "f39ad320-ab23-49ed-9aa4-526109d43195",
   "metadata": {},
   "source": [
    "## O que é? \n",
    "\n",
    "R: \tSão espectroscopias de absorção e fotoeletrônica de raios-X, com objetivo de estudar as propriedades eletrônicas e estruturais de materiais inorgânicos.\n",
    "\n",
    "O XPS permite a investigação da superfície do material, sendo o utilizada para investigar mudanças químicas e estruturais nas superfícies do material estudado.\n",
    "\n",
    "O XAS fornece informações do volume (BULK) da amostra e sonda a ordem a curto alcance ao redor do átomo de interesse.\n",
    "\n",
    "Os dois são técnicas complementares na caracterização de materiais, mas só vamos falar de XPS.\n"
   ]
  },
  {
   "cell_type": "markdown",
   "id": "10402bea-3527-4fb8-93b1-243fed68eafc",
   "metadata": {},
   "source": [
    "## Como funciona a técnica? \n",
    "\n",
    "R: O princípio básico dessa técnica é o efeito fotoelétrico, onde teremos fótons de raios-X (hv) sendo absorvidos pelo átomo alvo, excitando ele, que só volta a sua normalidade pela emissão de um fotoelétron (ionização de átomo), provenientes do cerne do átomo. \n",
    "\n",
    "Basicamente a fonte dispara um laser em um anodo (alumínio ou magnésio) em uma energia muito alta, causando uma ionização e uma radiação de fretamento que emitem um fóton, que aí sim será o raio-X (K-alfa do alumínio) que será refletido por um cristal monocromador que aí sim será disparado o raio-X correto contra a amostra diversos fótons, que foto-ionizam a amostra, que emite os fotoelétrons como resultado, esses fotoelétrons emitidos com são captados por um espectrômetro e um detector que a partir disso gera dados sobre suas diversas características de superfície. \n",
    "\n",
    "Agora em uma visão atômica da técnica, o fotoelétron, que foto-ionizam o átomo, forçando o átomo a se livrar de um e-, causando um buraco no nível aonde o e- saiu, esse buraco causa alterações na dinâmica eletrônica do átomo atingido e de seus vizinhos, causando um relaxamento na vizinhança (vamos chamar de Erelax), logo a energia de ligação não é igual à energia do orbital do qual o fotoelétrons saiu e a diferença é causada pela reorganização dos e- do átomo e da vizinhança, então a energia de ligação de um fotoelétron contem a informação do estado do átomo antes da fotoionização(estado inicial) e do átomo ionizado depois da emissão do elétron(estado final)."
   ]
  },
  {
   "cell_type": "markdown",
   "id": "16aabfac-58e0-43a6-9572-bd0079984d7a",
   "metadata": {},
   "source": [
    "<img src=\"XPS1.png\" width=\"350\">"
   ]
  },
  {
   "cell_type": "markdown",
   "id": "ebb8aa5d-157d-4370-b182-834505581bda",
   "metadata": {},
   "source": [
    "OBS: A energia cinética (Ec) do fotoelétron que sai do átomo depende da energia do fóton incidente (hv) aí temos a lei fotoelétrica de Einstein (Ec = hv – E1 – ϕ) [E1 = energia de ligação do fotoelétron com a relação ao nível de Fermi][ϕ é a função trabalho do espectrômetro, corrige o meio eletrostático em que o elétron é formado e medido].\n",
    "\n",
    "OBS2: no XPS vamos medir a intensidade de fotoelétrons N(E) como função das suas Ec, mas usualmente os espectros são apresentados aonde N(E) é uma função de E1.\n",
    "\n",
    "O XPS só funciona se os fotoelétrons possuírem energia cinética na faixa de 100 a 1400 eV, pois não entram a fundo nas camadas atômicas (0,5 a 3 nm) dos sólidos, logo, se os fotoelétrons forem gerados próximos à superfície temos um aumento na eficiência da técnica."
   ]
  },
  {
   "cell_type": "markdown",
   "id": "97f2ac8e-8f64-460d-9afd-1b03cb9e1118",
   "metadata": {},
   "source": [
    "## Informações extras necessárias;\n",
    "\n",
    "O XPS é composto por uma câmara de ultra-alto vácuo(10^-12Pa), uma fonte de raios-X(RXmole, ou seja, baixa energia, produzido por um anodo de alumínio[0-1200eV] ou magnésio[0-1400eV]), um canhão de íons, um espectrômetro, um analisador e um detector.\n",
    "\n",
    "A câmara de ultra-alto vácuo cria um livre caminho médio(LCM) para os fótons viajarem, diferentes materiais precisam de um livre caminho médio diferentes para o XPS produzir resultados, esse LCM combinado com a orientação da emissão fotoelétrica gera uma “profundidade de escape” que define quantas camadas atômicas do material serão analisadas (2 a 10 monocamadas)\n",
    "\n",
    "BÔNUS: O XPS vai utilizar os picos discretos dos fotoelétrons, rotulados segundo os números quânticos do nível de qual o e- saiu. Então para fazer esse cálculo temos de considerar um e- com momento angular orbital L (s,p,d,f...) e momento angular de spin S(S=+/- 1/2), logo o momento angular orbital total é J = L + S. (Cada nível com J ≥ 1 tem dois sub-níveis que vieram de S, por separação spin-órbita). EXEMPLO: E- de nível 2p de Cu tem 2 picos de fotoemissão, 2p³/², logo L = 1 e J = 1 +  +/- ½)\n",
    "\n",
    "A intensidade relativa dos picos é determinada pela multiplicidade dos níveis correspondentes, então para o Cu com nível 2p³/² temos 2J + 1, logo, a intensidade relativa das componentes J = ½ e J = 3/2 e do dubleto de Cu será 2/4.\n",
    "\n",
    "OBS: sobre as energias de ligação: elas são especificas para cada elementos com informações químicas, pois o nível dos e- dependem do estado químico do átomo, pois se ele tiver todos os seus e- a força de atração entre núcleo e e- é diminuída, mas ocorre um deslocamento químico (ele perde e-) essa força aumenta e estudos recentes estão tentando correlacionar a energia de ligação com o deslocamento químico.\n",
    "\n",
    "Os picos fotoelétricos e seu BACKGROUND: o background nada mais é que os outros fotoelétrons produzidos dentro do ânodo da fonte, que sofreram espalhamentos inelásticos, antes da emissão.\n",
    "\n",
    "O efeito da ionização: após o átomo perder um e- devido à fotoionização, um buraco é produzido no átomo, afetando a distribuição dos elétrons emitidos, causando deslocamentos, gerando picos satélites (shake up e off) que correspondem a efeitos dos estados finais que se originam quando o fotoelétron concede energia a outro e- do átomo. [up: e- em estado não ocupado e off: e- em estado não ligado], essa perde de energia pelo fotoelétron, gera um maior valor de energia de ligação no espectro. EXEMPLO no cobre os pico up no nível 2p³/² e ¹/² são de uma camada 3d 9 não ocupada no Cu².\n",
    "\n",
    "Os gráficos são em energia de ligação/eV e Intensidade [u.a.](intensidade de raios-X) por energia de ligação/eV;"
   ]
  },
  {
   "cell_type": "markdown",
   "id": "88b098ca-7c36-47b9-8a86-7482ed95e52e",
   "metadata": {},
   "source": [
    "<img src=\"XPS2.png\" width=\"500\">"
   ]
  },
  {
   "cell_type": "markdown",
   "id": "3e051982-a129-4d1b-a8c7-26a0bc2507ad",
   "metadata": {},
   "source": [
    "## Como usar?\n",
    "\n",
    "R: Agora você é o usuário, essa técnica será feita no LNNano, então, você só deve produzir a amostra a ser analisada, a parte de fazer o XPS será com o responsável pelo equipamento que vai colocar sua amostra no porta amostra do XPS em uma câmara separada que após um tempo terá seu vácuo interno estabilizado com o ultra-alto vácuo  (fica ligado ad eternum) da câmara principal do XPS e produzirá seus dados.\n",
    "\n",
    "OBS (da Débora van Putten - 220037): Todos os equipamentos que utilizam vácuo nas suas medições têm seu vácuo ligado “eternamente”, pois gerar um novo vácuo a cada medição levaria horas, então o equipamento normalmente é divido em câmaras e a principal que sempre tem o vácuo ligado e a secundaria (câmara pequena de transição das amostras do meio externo para a câmara principal) que conseguimos aplicar o vácuo de maneira mais rápida."
   ]
  },
  {
   "cell_type": "markdown",
   "id": "ee2f8325-fa60-418a-92b2-27b055659e26",
   "metadata": {},
   "source": [
    "## Como preparar a amostra?\n",
    "\n",
    "R: Como sempre, depende da amostra, mas de forma geral devemos secar a amostra, seja colocando em um eppendorf aberto na estufa (no máximo 50°C) até secar ou em uma placa de Petri (de vidro) aberta na estufa (no máximo 80°C), essa escolha é baseada na sua amostra. Considerando as práticas de imersão do CNPEM do 2 semestre, temos uma amostra de SiPs, não podemos secá-las em placas de Petri, pois vamos perder muita amostra, então vamos colocar uma alíquota no eppendorf e colocá-lo dentro de um Becker e levar a estufa.\n",
    "\n",
    "OBS: A amostra deve se tornar pó, pois o XPS tem uma base com locais para colocar esse pó para o equipamento fazer a leitura, lembre-se de garantir que tem amostra em pó suficiente."
   ]
  },
  {
   "cell_type": "markdown",
   "id": "5e1a7804-a184-4994-b4ab-d3f2d680d0d0",
   "metadata": {},
   "source": [
    "## Quais informações são obtidas?\n",
    "\n",
    "R: Podemos identificação elementar da amostra e possíveis contaminantes que diminuem a eficiência da amostra, descobrir o estado químico, nível de oxidação ou degradação da amostra e por fim o número de coordenações dos átomos próximos à superfície da amostra.\n",
    "\n",
    "OBS: descobrir a composição atômica da superfície, no caso da SiPs com fluorescência confirmar eficiência da funcionalização."
   ]
  },
  {
   "cell_type": "markdown",
   "id": "9a4c6958-ec44-488e-b169-2c1865a6000a",
   "metadata": {},
   "source": [
    "## Como e onde tratar esses dados?\n",
    "\n",
    "R: Você vai receber uma planilha com os dados, afinal o equipamento vai te gerar isso e fazendo interpretações dessa planilha você pode tratar os dados utilizando py.\n",
    "Se necessário, peça ajuda aos professores James e Daniel ou até para o monitor das disciplinas de computação, como, por exemplo: Prática em Ciência de Dados ou Lógica Computacional."
   ]
  }
 ],
 "metadata": {
  "kernelspec": {
   "display_name": "ilumpy",
   "language": "python",
   "name": "ilumpy"
  },
  "language_info": {
   "codemirror_mode": {
    "name": "ipython",
    "version": 3
   },
   "file_extension": ".py",
   "mimetype": "text/x-python",
   "name": "python",
   "nbconvert_exporter": "python",
   "pygments_lexer": "ipython3",
   "version": "3.9.7"
  }
 },
 "nbformat": 4,
 "nbformat_minor": 5
}
