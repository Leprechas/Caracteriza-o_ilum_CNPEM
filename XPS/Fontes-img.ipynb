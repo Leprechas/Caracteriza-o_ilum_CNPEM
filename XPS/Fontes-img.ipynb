{
 "cells": [
  {
   "cell_type": "markdown",
   "id": "a8ec6ae0-c21c-4f10-b56b-035463ab77ca",
   "metadata": {},
   "source": [
    "# XPS, fontes das imagens;"
   ]
  },
  {
   "cell_type": "markdown",
   "id": "276a0256-3b0e-4a36-9a01-632aa7786622",
   "metadata": {},
   "source": [
    "Nome do arquivo de imagem : fonte da imagem\n",
    "\n",
    "XPS1.png : 國立中山大學學位論文典藏: Surface and Depth-Profiled Chemical Analysis of Silicone Rubber\n",
    "Composites after High Temperature and/or High Pressure\n",
    "Treatments.\n",
    "\n",
    "XPS2.png : Chemkeys - Liberdade para aprender: Princípios Básicos de XAS e XPS, Instituto de Química, UNICAMP: Emerson Schwingel Ribeiro, Maria Suzana P. Francisco, Et all..."
   ]
  },
  {
   "cell_type": "code",
   "execution_count": null,
   "id": "8a5c3202-1eda-4878-b36b-1531fd05df54",
   "metadata": {},
   "outputs": [],
   "source": []
  }
 ],
 "metadata": {
  "kernelspec": {
   "display_name": "ilumpy",
   "language": "python",
   "name": "ilumpy"
  },
  "language_info": {
   "codemirror_mode": {
    "name": "ipython",
    "version": 3
   },
   "file_extension": ".py",
   "mimetype": "text/x-python",
   "name": "python",
   "nbconvert_exporter": "python",
   "pygments_lexer": "ipython3",
   "version": "3.9.7"
  }
 },
 "nbformat": 4,
 "nbformat_minor": 5
}
