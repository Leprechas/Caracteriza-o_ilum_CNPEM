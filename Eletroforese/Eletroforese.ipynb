{
 "cells": [
  {
   "cell_type": "markdown",
   "id": "32531125-fdb4-414e-b65d-317b644557ca",
   "metadata": {},
   "source": [
    "# Eletroforese\n",
    "\n",
    "Feito por Vitória Yumi Uetuki Nicoleti - 220056\n",
    "\n",
    "Turma: 1 ou 2022\n",
    "\n",
    "Revisado por:\n",
    "\n",
    "Turma: "
   ]
  },
  {
   "cell_type": "markdown",
   "id": "360167b0-aabe-4546-bcfc-cf8f77f49479",
   "metadata": {},
   "source": [
    "## O que é? \n",
    "\n",
    "R: A Eletroforese é uma técnica amplamente utilizada na biologia para separação de pequenas partículas. Apesar de sua utilização em laboratórios voltados à biologia, engloba conceitos físicos em seu funcionamento. \n",
    "\n",
    "Fundamenta-se no fenômeno de migração de pequenas partículas carregadas, as quais se encontram dispersas em uma solução aquosa eletrolítica - tampão -, ao longo de uma cuba. Essas partículas podem ser desde células bacterianas e vírus até proteínas e pequenas partículas sintéticas. Caso aplicada para identificar ou quantificar proteínas, o equipamento é vertical e utiliza-se o gel de poliacrilamida (PAGE) - técnica descrita pelo Vitor Barelli em outro documento de caracterização. Caso realizada para outras macromoléculas, normalmente utilizamos o gel de agarose.\n",
    "\n",
    "Suas aplicações, que são diversas, se baseiam em separar as macromoléculas de acordo com seu tamanho e carga."
   ]
  },
  {
   "cell_type": "markdown",
   "id": "7445bffa-780f-4782-8af0-432b73b92300",
   "metadata": {},
   "source": [
    "<center><img src=\"Eletroforese_proteínas.png\" style=\"width:225px;height:340px\"/></center>\n",
    "<center><img src=\"Eletroforese_cuba.png\" style=\"width:450px;height:350px\"/></center>"
   ]
  },
  {
   "cell_type": "markdown",
   "id": "a04a3262-4f14-4a71-8fd8-3c4983a53995",
   "metadata": {},
   "source": [
    "*Imagens da própria autora durante estágio no LNBio/CNPEM*"
   ]
  },
  {
   "cell_type": "markdown",
   "id": "45909d9e-87f4-451d-bfa1-35d38d894be3",
   "metadata": {},
   "source": [
    "## Como funciona a técnica?\n",
    "\n",
    "R: A cuba de eletroforese é ligada em ambas as extremidades a eletrodos - a com os poços, a um negativo e aquela para a qual as amostras vçao migrar, a um positivo. Assim, permite-se que flua uma corrente através do gel. Por as macromoléculas possuirem carga, elas se movem pelo gel - dizemos que o gel está correndo. Por exemplo, moléculas de DNA, por conta dos grupos fosfato, possuem carga negativa.\n",
    "\n",
    "O gel de agarose, considerando sua preparação com tampão, permite que a amostra não sofra com variações de pH e forma micro poros para a passagem da amostra.\n",
    "\n",
    "Após as amostras terem sido preparadas, colocadas nos pocinhos e tenham corrido no gel, visto a pigmentação dele com um corante que se liga à macromolécula, as 'faixinhas', que chamamos de bandas, formadas ficam coloridas e brilham quando expostas à luz UV, nos permitindo ver bandas em diferentes posições ao longo do gel. \n",
    "\n",
    "Além das amostras, utiliza-se um poço para alocar uma régua molecular, que formará diversas bandas, com as quais podemos comparar os resultados obtivos e associar a um tamanho conhecido. E também outros dois para controle positivo (sabe-se o que esperar) e negativo (não visualizar nada), a fim de validar o experimento.\n",
    "\n",
    "Quanto maior uma molécula, maior a força de retardação agindo nela em seu movimento pelo gel. Assim, ela será mais devagar e sua banda corresponde será mais próxima do seu poço inicial. A partir disso, é feita a comparaçaõ com a régua molecular e é descoberto os tamanhos das macromoléculas.\n",
    "\n",
    "\n",
    "*Obs: A voltagem utilizada vai depender do tempo desejado para a corrida e a atenção para o gel não derreter; quanto maior a voltagem, menor o tempo levado para terminar de correr.*"
   ]
  },
  {
   "cell_type": "markdown",
   "id": "1f86de1d-352b-4385-9d37-18779c4bf730",
   "metadata": {},
   "source": [
    "<center><img src=\"Eletroforese_eletrodos.png\" style=\"width:580px;height:250px\"/></center>"
   ]
  },
  {
   "cell_type": "markdown",
   "id": "3aee60ea-f498-46b3-bb0a-9cb4e02ccce5",
   "metadata": {},
   "source": [
    "## Como usar?\n",
    "\n",
    "R: Antes de tudo, é necessário produzir um gel de agarose (aquecendo-a com água e alguns sais), um tampão, e preparar as amostras. \n",
    "\n",
    "Após essas etapas iniciais, é necessário colocar o gel na cuba, para que ele se solidifique, e cobri-lo com o tampão.\n",
    "\n",
    "Enquanto o gel é solidificado, um 'pente' fica encaixado para se formar pocinhos. Após a solidificação, ele pode ser retirado e as amostras são pipetadas cada uma em um poço, além do marcador de peso molecular/régua molecular e controles.\n",
    "\n",
    "Depois, a cuba precisa ter a extremidade na qual se encontram os pocinhos ligada a um eletrodo negativo e aquela para qual as amostras vão migrar, a um eletrodo positivo. \n",
    "\n",
    "Logo, após ligada, uma corrente elétrica vai ser gerada e, por conseguinte, originará uma diferença de potencial, iniciando a corrida do gel.\n",
    "\n",
    "Passado algum tempo, que pode durar uma hora, por exemplo, a corrida vai estar terminada, com as bandas formadas e indicando os pesosmoleculares/tamanho das macromoléculas.\n",
    "\n",
    "Além da cor das bandas, o gel é colocado sob luz UV ou LED, com as quais permite-se que vejamos as bandas e as analisamos, verificando também o controle positivo e o negativo."
   ]
  },
  {
   "cell_type": "markdown",
   "id": "4cf7c7f8-bc50-4143-a236-ddc07bf818a1",
   "metadata": {},
   "source": [
    "<center><img src=\"Eletroforese_exemplo_DNA.png\" style=\"width:225px;height:440px\"/></center>"
   ]
  },
  {
   "cell_type": "markdown",
   "id": "16105f83-ab35-443c-8c87-ad8adc1400fa",
   "metadata": {},
   "source": [
    "<center><img src=\"Eletroforese_exemplo_UV_PCR.png\" style=\"width:640px;height:225px\"/></center>"
   ]
  },
  {
   "cell_type": "markdown",
   "id": "39247052-b1bd-4e26-880d-7c1a8b69f660",
   "metadata": {},
   "source": [
    "## Como preparar a amostra?\n",
    "\n",
    "R: Cada amostra terá sua preparaçaõ prévia. Entretanto, exemplificando, uma amostra pode ter passado por PCR ou, em caso de plasmídeo, digestão por restrição, e basta pigmentar ela para poder já colocá-la em um poço.\n",
    "\n",
    "Já o gel e o tampão, são seguidas receitas apropriadas no laboratório em que o trabalho está sendo feito."
   ]
  },
  {
   "cell_type": "markdown",
   "id": "a15df33c-8b13-4cdb-991e-a8b8c2206512",
   "metadata": {},
   "source": [
    "## Quais informações são obtidas?\n",
    "\n",
    "R: É possível verificar o peso molecular/tamanho da macromolécula, além de conferir se não houve contaminação no processo. Com isso, é possível verificar se um PCR de uma região de interesse de DNA funcionou, se um gene desejado foi inserido em um plasmídeo, entre outras aplicações."
   ]
  },
  {
   "cell_type": "markdown",
   "id": "16f5314d-41eb-49e3-9a2f-f30e6ee1569b",
   "metadata": {},
   "source": [
    "## Como e onde tratar esses dados?\n",
    "\n",
    "R: Esses dados não precisam ser tratados com código, por exemplo, como outras técnicas de caracterização. Basta retirar o gel, colocar sob luz UV ou LED, e comparar as bandas formadas com a régua molecular, a fim descobrir os pesos moleculares/tamanho e confirmar resultado de experimento. Caso não tenha dadoo certo, os procedimentos prévios - de preparação de amostras - devem ser refeitos e passados por eletroforese para a confimação novamente."
   ]
  },
  {
   "cell_type": "markdown",
   "id": "3d151a50-5c72-4863-9e26-47f035176aff",
   "metadata": {},
   "source": [
    "#### Fontes das imagens"
   ]
  },
  {
   "cell_type": "markdown",
   "id": "83bfff94-b5c4-4e40-a66e-b9a45689036c",
   "metadata": {},
   "source": [
    "https://pt.khanacademy.org/science/ap-biology/gene-expression-and-regulation/biotechnology/a/gel-electrophoresis"
   ]
  }
 ],
 "metadata": {
  "kernelspec": {
   "display_name": "Python 3 (ipykernel)",
   "language": "python",
   "name": "python3"
  },
  "language_info": {
   "codemirror_mode": {
    "name": "ipython",
    "version": 3
   },
   "file_extension": ".py",
   "mimetype": "text/x-python",
   "name": "python",
   "nbconvert_exporter": "python",
   "pygments_lexer": "ipython3",
   "version": "3.9.7"
  }
 },
 "nbformat": 4,
 "nbformat_minor": 5
}
