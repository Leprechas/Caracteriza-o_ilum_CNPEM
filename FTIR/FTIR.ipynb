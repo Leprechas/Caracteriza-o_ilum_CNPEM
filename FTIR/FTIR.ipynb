{
 "cells": [
  {
   "cell_type": "markdown",
   "id": "32531125-fdb4-414e-b65d-317b644557ca",
   "metadata": {},
   "source": [
    "# FTIR\n",
    "\n",
    "Feito por Vitor E. G. Barelli - 220072\n",
    "\n",
    "Turma: 1 ou 2022\n",
    "\n",
    "Revisado por:\n",
    "\n",
    "Turma: "
   ]
  },
  {
   "cell_type": "markdown",
   "id": "360167b0-aabe-4546-bcfc-cf8f77f49479",
   "metadata": {},
   "source": [
    "## O que é? \n",
    "\n",
    "R: FTIR ou infravermelho por transformada de Fourier é um espectrômetro de infravermelho e mede a capacidade de uma amostra para absorver, transmitir ou refletir radiação infra, a partir disso conseguimos tirar informações relevantes sobre a identidade ou contaminação da amostra, afinal, estruturas químicas diferentes produzem trações espectrais diferentes. Segue a baixo uma foto de um FTIR;"
   ]
  },
  {
   "cell_type": "markdown",
   "id": "3aa84b07-cfb7-4860-bc48-94f7b4eada30",
   "metadata": {},
   "source": [
    "<img src=\"IR3.jpg-650.avif\" width=\"350\">"
   ]
  },
  {
   "cell_type": "markdown",
   "id": "45909d9e-87f4-451d-bfa1-35d38d894be3",
   "metadata": {},
   "source": [
    "## Como funciona a técnica?\n",
    "\n",
    "R: o FTIR gera espectros padronizados que fornecem informações estruturais, contudo, existem 4 técnicas de amostragem para esse equipamento: transmissão, ATR, reflexão especular e refletância difusa, cada técnica tem suas vantagens e desvantagens, então deve ser escolhida se passeando nas informações conhecidas da amostra.\n",
    "\n",
    "O equipamento em modo padrão funciona basicamente com uma fonte de lasers do infravermelho que passam por um controlador de frequência e por fim chegam na amostra e o detector vai receber os lasers que conseguiram passar pela amostra, agora o próprio software vai gerar um output que é um gráfico de espectros do infravermelho e a partir desse gráfico tiramos as informações sobre a identidade da amostra."
   ]
  },
  {
   "cell_type": "markdown",
   "id": "3aee60ea-f498-46b3-bb0a-9cb4e02ccce5",
   "metadata": {},
   "source": [
    "## Como usar?\n",
    "\n",
    "R: O equipamento é bem comum, mas não é permitido o uso dele sem o técnico de laboratório responsável, primeiro ligamos o equipamento e abrimos o software correspondente, colocamos a nossa amostra e escolhemos o tipo de análise que queremos fazer e começamos a analisar."
   ]
  },
  {
   "cell_type": "markdown",
   "id": "39247052-b1bd-4e26-880d-7c1a8b69f660",
   "metadata": {},
   "source": [
    "## Como preparar a amostra?\n",
    "\n",
    "R: Considerando que é uma técnica não destrutiva, é uma técnica de caracterização recomendada para micro-amostras ou amostras com pouca quantidade. Esse equipamento é bem versátil, então ele aceita amostras líquidas e sólidas (em pó).\n",
    "\n",
    "Se a sua amostra for líquida, você deve trocar a ponteira para a ponteira de líquidos, colocar uma gota considerável no local de amostras e descer a ponteira até ouvir um estralo e por fim começar a analisar.\n",
    "\n",
    "Se a sua amostra for sólida, você deve trocar a ponteira para a ponteira de sólidos, colocar uma quantidade considerável de pó no local de amostras e descer a ponteira até ouvir um estralo e por fim começar a analise."
   ]
  },
  {
   "cell_type": "markdown",
   "id": "a15df33c-8b13-4cdb-991e-a8b8c2206512",
   "metadata": {},
   "source": [
    "## Quais informações são obtidas?\n",
    "\n",
    "R: Essa técnica faz análises qualitativas e semi-qualitativas que indicam a pegada molecular da amostra, ou seja, conforme a estrutura, composição e modo de vibração da amostra geramos um espectro, que pode indicar a composição total da amostra e as suas contaminações, contudo, essas informações não serão dadas de uma forma comum, elas passaram pela transformação de fourier, o que deixará o gráfico diferente, como podemos ver no esquema a baixo;"
   ]
  },
  {
   "cell_type": "markdown",
   "id": "ef6055ef-364b-4864-b8a3-3de81e42eaca",
   "metadata": {},
   "source": [
    "<img src=\"IR4-1.png\" width=\"550\">"
   ]
  },
  {
   "cell_type": "markdown",
   "id": "16f5314d-41eb-49e3-9a2f-f30e6ee1569b",
   "metadata": {},
   "source": [
    "## Como e onde tratar esses dados?\n",
    "\n",
    "R: Considerando que o aparelho já vai nós dar um espectro de infravermelho, que passou pela transformada de Fourier, teremos um gráfico cheio de vales e dois eixos, um indicando a porcentagem de transmitância (depende do modo escolhido) e o número de onda (ALERTA: o gráfico nesse eixo pode estar ao contrário, tome cuidado).\n",
    "\n",
    "Esse gráfico de forma geral não precisa ser tratado, mas sim bem interpretado, pois contem diversas diferenças de um gráfico comum, o máximo que podemos fazer é editar a imagem para ela ficar do jeito padrão que conhecemos. Então tome cuidado e não se esqueça de olhar muito bem as imagens (0001,0002,0003, IR4-1)"
   ]
  },
  {
   "cell_type": "code",
   "execution_count": null,
   "id": "8c79c1d4-2a19-4509-834a-db0b038d6f51",
   "metadata": {},
   "outputs": [],
   "source": []
  }
 ],
 "metadata": {
  "kernelspec": {
   "display_name": "Python 3 (ipykernel)",
   "language": "python",
   "name": "python3"
  },
  "language_info": {
   "codemirror_mode": {
    "name": "ipython",
    "version": 3
   },
   "file_extension": ".py",
   "mimetype": "text/x-python",
   "name": "python",
   "nbconvert_exporter": "python",
   "pygments_lexer": "ipython3",
   "version": "3.9.7"
  }
 },
 "nbformat": 4,
 "nbformat_minor": 5
}
