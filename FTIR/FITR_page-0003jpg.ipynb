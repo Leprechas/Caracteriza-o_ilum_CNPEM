{
 "cells": [
  {
   "cell_type": "markdown",
   "id": "81f81c77-e4f1-4b76-bdac-9c1836035106",
   "metadata": {},
   "source": [
    "Informação privilegiada, não comentem com ninguém que vocês viram isso aqui: segue a baixo um guia do próprio equipamento que pode ajudar vocês nas aulas e nas interpretações das suas análises."
   ]
  },
  {
   "cell_type": "markdown",
   "id": "2b91a0bc-40bd-4497-aaa6-c50a4d16e7ae",
   "metadata": {},
   "source": [
    "<img src=\"FITR_page-0001.jpg\" width=\"550\">"
   ]
  },
  {
   "cell_type": "markdown",
   "id": "9caf5d61-2098-4776-b631-5356e5f088f8",
   "metadata": {},
   "source": [
    "<img src=\"FITR_page-0002.jpg\" width=\"550\">"
   ]
  },
  {
   "cell_type": "code",
   "execution_count": null,
   "id": "ba6f8b88-4145-480d-829a-e36941ef758d",
   "metadata": {},
   "outputs": [],
   "source": []
  }
 ],
 "metadata": {
  "kernelspec": {
   "display_name": "ilumpy",
   "language": "python",
   "name": "ilumpy"
  },
  "language_info": {
   "codemirror_mode": {
    "name": "ipython",
    "version": 3
   },
   "file_extension": ".py",
   "mimetype": "text/x-python",
   "name": "python",
   "nbconvert_exporter": "python",
   "pygments_lexer": "ipython3",
   "version": "3.9.7"
  }
 },
 "nbformat": 4,
 "nbformat_minor": 5
}
