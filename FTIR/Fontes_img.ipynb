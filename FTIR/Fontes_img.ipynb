{
 "cells": [
  {
   "cell_type": "markdown",
   "id": "a8ec6ae0-c21c-4f10-b56b-035463ab77ca",
   "metadata": {},
   "source": [
    "# FTIR, fontes das imagens;"
   ]
  },
  {
   "cell_type": "markdown",
   "id": "276a0256-3b0e-4a36-9a01-632aa7786622",
   "metadata": {},
   "source": [
    "Nome do arquivo de imagem : fonte da imagem\n",
    "\n",
    "FITR_page-0001.jpg : Sociedade Brasileira de Química: Guia 1: interpretação de espectros ultravioleta e infravermelho\n",
    "\n",
    "FITR_page-0001.jpg : Sociedade Brasileira de Química: Guia 1: interpretação de espectros ultravioleta e infravermelho\n",
    "\n",
    "IR4-1.png : Site Jasco: Princípios de espectroscopia de infravermelho\n",
    "\n",
    "IR3.jps-650.avif : ThermoFisher scientific: FT-IR Spectrometers: Nicolet iS20 FTIR Spectrometer"
   ]
  }
 ],
 "metadata": {
  "kernelspec": {
   "display_name": "ilumpy",
   "language": "python",
   "name": "ilumpy"
  },
  "language_info": {
   "codemirror_mode": {
    "name": "ipython",
    "version": 3
   },
   "file_extension": ".py",
   "mimetype": "text/x-python",
   "name": "python",
   "nbconvert_exporter": "python",
   "pygments_lexer": "ipython3",
   "version": "3.9.7"
  }
 },
 "nbformat": 4,
 "nbformat_minor": 5
}
